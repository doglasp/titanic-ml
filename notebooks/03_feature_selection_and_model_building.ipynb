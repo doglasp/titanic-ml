{
 "cells": [
  {
   "cell_type": "markdown",
   "id": "8302db53",
   "metadata": {},
   "source": [
    "## Imports"
   ]
  },
  {
   "cell_type": "code",
   "execution_count": 15,
   "id": "88a9b3af",
   "metadata": {},
   "outputs": [],
   "source": [
    "import platform, numpy as np, pandas as pd, matplotlib.pyplot as plt\n",
    "\n",
    "from pathlib import Path\n",
    "from datetime import datetime\n",
    "from sklearn.model_selection import train_test_split, StratifiedKFold, cross_val_score, cross_validate, GridSearchCV\n",
    "from sklearn.metrics import roc_auc_score, accuracy_score, confusion_matrix, classification_report, precision_score, recall_score, f1_score, ConfusionMatrixDisplay\n",
    "from sklearn.compose import ColumnTransformer, make_column_selector as selector\n",
    "from sklearn.preprocessing import OneHotEncoder, StandardScaler\n",
    "from sklearn.impute import SimpleImputer\n",
    "from sklearn.pipeline import Pipeline\n",
    "from sklearn.linear_model import LogisticRegression\n",
    "from sklearn.ensemble import RandomForestClassifier\n",
    "from sklearn.feature_selection import SelectFromModel\n",
    "from joblib import dump, load\n",
    "from src.engineering import EngineerTransformer, DROP_LATER as DROP_LATER_02"
   ]
  },
  {
   "cell_type": "markdown",
   "id": "b0111fff",
   "metadata": {},
   "source": [
    "## Setup"
   ]
  },
  {
   "cell_type": "code",
   "execution_count": 2,
   "id": "01234a27",
   "metadata": {},
   "outputs": [
    {
     "name": "stdout",
     "output_type": "stream",
     "text": [
      "Python: 3.11.14\n"
     ]
    }
   ],
   "source": [
    "SEED = 42\n",
    "np.random.seed(SEED)\n",
    "\n",
    "DATA_DIR = Path(\"../data/clean\")\n",
    "OUT_DIR  = Path(\"../outputs\"); OUT_DIR.mkdir(parents=True, exist_ok=True)\n",
    "\n",
    "print(\"Python:\", platform.python_version())"
   ]
  },
  {
   "cell_type": "markdown",
   "id": "a726607d",
   "metadata": {},
   "source": [
    "## Load latest clean dataset from01"
   ]
  },
  {
   "cell_type": "code",
   "execution_count": 3,
   "id": "c8afa6ef",
   "metadata": {},
   "outputs": [
    {
     "name": "stdout",
     "output_type": "stream",
     "text": [
      "Loaded: train_clean_20251019-211325.csv | shape: (891, 12)\n"
     ]
    }
   ],
   "source": [
    "clean_files = sorted(DATA_DIR.glob(\"train_clean_*.csv\"))\n",
    "assert clean_files, \"No cleaned file found in data/clean. Run 01_data_preparation first.\"\n",
    "train_clean_csv = clean_files[-1]\n",
    "\n",
    "df = pd.read_csv(train_clean_csv)\n",
    "print(\"Loaded:\", train_clean_csv.name, \"| shape:\", df.shape)\n",
    "\n",
    "# Target\n",
    "target = \"Survived\"\n",
    "assert target in df.columns, f\"Target column '{target}' not found.\""
   ]
  },
  {
   "cell_type": "markdown",
   "id": "d66e73f8",
   "metadata": {},
   "source": [
    "## Bring the engineering transformer from 02"
   ]
  },
  {
   "cell_type": "code",
   "execution_count": 4,
   "id": "6f94f216",
   "metadata": {},
   "outputs": [
    {
     "name": "stdout",
     "output_type": "stream",
     "text": [
      "Using EngineerTransformer from engineering.py\n"
     ]
    }
   ],
   "source": [
    "DROP_LATER = [\"PassengerId\",\"Name\",\"Ticket\",\"Cabin\"]  # columns to drop after engineering\n",
    "\n",
    "engineer_step = None\n",
    "DROP_LATER = DROP_LATER_02  # keep consistent\n",
    "engineer_step = EngineerTransformer(drop_cols=DROP_LATER)\n",
    "print(\"Using EngineerTransformer from engineering.py\")"
   ]
  },
  {
   "cell_type": "markdown",
   "id": "db4eb15f",
   "metadata": {},
   "source": [
    "## Define preprocessing (auto-detect numeric vs categorical)"
   ]
  },
  {
   "cell_type": "code",
   "execution_count": 5,
   "id": "331648e4",
   "metadata": {},
   "outputs": [
    {
     "name": "stdout",
     "output_type": "stream",
     "text": [
      "Preprocess pronto.\n"
     ]
    }
   ],
   "source": [
    "#Preprocessing: automatic column detection after engineering\n",
    "numeric_pipe = Pipeline([\n",
    "    (\"imputer\", SimpleImputer(strategy=\"median\")),\n",
    "    (\"scaler\", StandardScaler()),\n",
    "])\n",
    "\n",
    "categorical_pipe = Pipeline([\n",
    "    (\"imputer\", SimpleImputer(strategy=\"most_frequent\")),\n",
    "    # control the expansion to avoid feature explosion\n",
    "    (\"ohe\", OneHotEncoder(handle_unknown=\"ignore\", min_frequency=0.01)),\n",
    "])\n",
    "\n",
    "preprocess = ColumnTransformer(\n",
    "    transformers=[\n",
    "        (\"num\", numeric_pipe, selector(dtype_include=np.number)),\n",
    "        (\"cat\", categorical_pipe, selector(dtype_exclude=np.number)),\n",
    "    ],\n",
    "    remainder=\"drop\",\n",
    "    verbose_feature_names_out=False,\n",
    ")\n",
    "\n",
    "print(\"Preprocess pronto.\")"
   ]
  },
  {
   "cell_type": "markdown",
   "id": "f49381d3",
   "metadata": {},
   "source": [
    "## Train/test split"
   ]
  },
  {
   "cell_type": "code",
   "execution_count": 6,
   "id": "774c2ad9",
   "metadata": {},
   "outputs": [],
   "source": [
    "# Split, CV, fit, evaluate\n",
    "X = df.drop(columns=[target])\n",
    "y = df[target].astype(\"int64\")\n",
    "\n",
    "strat = y if y.nunique() > 1 else None\n",
    "\n",
    "X_train, X_test, y_train, y_test = train_test_split(\n",
    "    X, y, test_size=0.25, stratify=strat, random_state=SEED\n",
    ")"
   ]
  },
  {
   "cell_type": "markdown",
   "id": "eabd5b23",
   "metadata": {},
   "source": [
    "## Benchmark: LogisticRegression vs RandomForest"
   ]
  },
  {
   "cell_type": "code",
   "execution_count": 7,
   "id": "b6542ddc",
   "metadata": {},
   "outputs": [
    {
     "name": "stdout",
     "output_type": "stream",
     "text": [
      "Train/Test shapes: (668, 11) (223, 11)\n",
      "Fitting 5 folds for each of 880 candidates, totalling 4400 fits\n"
     ]
    },
    {
     "name": "stderr",
     "output_type": "stream",
     "text": [
      "c:\\Users\\Doglas\\miniconda3\\envs\\titanic-ml\\Lib\\site-packages\\numpy\\ma\\core.py:2846: RuntimeWarning: invalid value encountered in cast\n",
      "  _data = np.array(data, dtype=dtype, copy=copy,\n"
     ]
    },
    {
     "name": "stdout",
     "output_type": "stream",
     "text": [
      "Melhor combinação: {'clf': RandomForestClassifier(n_jobs=-1, random_state=42), 'clf__class_weight': 'balanced', 'clf__max_depth': None, 'clf__max_features': 'sqrt', 'clf__min_samples_leaf': 4, 'clf__min_samples_split': 10, 'clf__n_estimators': 200, 'select': 'passthrough'}\n",
      "Melhor ROC-AUC (CV): 0.8696\n",
      "Vencedor: RandomForestClassifier\n"
     ]
    },
    {
     "data": {
      "text/html": [
       "<div>\n",
       "<style scoped>\n",
       "    .dataframe tbody tr th:only-of-type {\n",
       "        vertical-align: middle;\n",
       "    }\n",
       "\n",
       "    .dataframe tbody tr th {\n",
       "        vertical-align: top;\n",
       "    }\n",
       "\n",
       "    .dataframe thead th {\n",
       "        text-align: right;\n",
       "    }\n",
       "</style>\n",
       "<table border=\"1\" class=\"dataframe\">\n",
       "  <thead>\n",
       "    <tr style=\"text-align: right;\">\n",
       "      <th></th>\n",
       "      <th>param_clf</th>\n",
       "      <th>mean_test_roc_auc</th>\n",
       "      <th>mean_test_accuracy</th>\n",
       "      <th>mean_test_f1</th>\n",
       "    </tr>\n",
       "  </thead>\n",
       "  <tbody>\n",
       "    <tr>\n",
       "      <th>0</th>\n",
       "      <td>LogisticRegression(class_weight='balanced', ma...</td>\n",
       "      <td>0.848937</td>\n",
       "      <td>0.784368</td>\n",
       "      <td>0.729419</td>\n",
       "    </tr>\n",
       "    <tr>\n",
       "      <th>1</th>\n",
       "      <td>LogisticRegression(class_weight='balanced', ma...</td>\n",
       "      <td>0.851001</td>\n",
       "      <td>0.785894</td>\n",
       "      <td>0.732645</td>\n",
       "    </tr>\n",
       "    <tr>\n",
       "      <th>2</th>\n",
       "      <td>LogisticRegression(class_weight='balanced', ma...</td>\n",
       "      <td>0.849883</td>\n",
       "      <td>0.782875</td>\n",
       "      <td>0.728244</td>\n",
       "    </tr>\n",
       "    <tr>\n",
       "      <th>3</th>\n",
       "      <td>LogisticRegression(class_weight='balanced', ma...</td>\n",
       "      <td>0.850845</td>\n",
       "      <td>0.787386</td>\n",
       "      <td>0.734111</td>\n",
       "    </tr>\n",
       "    <tr>\n",
       "      <th>4</th>\n",
       "      <td>LogisticRegression(class_weight='balanced', ma...</td>\n",
       "      <td>0.849028</td>\n",
       "      <td>0.782875</td>\n",
       "      <td>0.727945</td>\n",
       "    </tr>\n",
       "    <tr>\n",
       "      <th>...</th>\n",
       "      <td>...</td>\n",
       "      <td>...</td>\n",
       "      <td>...</td>\n",
       "      <td>...</td>\n",
       "    </tr>\n",
       "    <tr>\n",
       "      <th>875</th>\n",
       "      <td>RandomForestClassifier(n_jobs=-1, random_state...</td>\n",
       "      <td>0.859058</td>\n",
       "      <td>0.800965</td>\n",
       "      <td>0.738389</td>\n",
       "    </tr>\n",
       "    <tr>\n",
       "      <th>876</th>\n",
       "      <td>RandomForestClassifier(n_jobs=-1, random_state...</td>\n",
       "      <td>0.859249</td>\n",
       "      <td>0.799473</td>\n",
       "      <td>0.737945</td>\n",
       "    </tr>\n",
       "    <tr>\n",
       "      <th>877</th>\n",
       "      <td>RandomForestClassifier(n_jobs=-1, random_state...</td>\n",
       "      <td>0.858938</td>\n",
       "      <td>0.794973</td>\n",
       "      <td>0.732549</td>\n",
       "    </tr>\n",
       "    <tr>\n",
       "      <th>878</th>\n",
       "      <td>RandomForestClassifier(n_jobs=-1, random_state...</td>\n",
       "      <td>0.859416</td>\n",
       "      <td>0.794973</td>\n",
       "      <td>0.731616</td>\n",
       "    </tr>\n",
       "    <tr>\n",
       "      <th>879</th>\n",
       "      <td>RandomForestClassifier(n_jobs=-1, random_state...</td>\n",
       "      <td>0.859645</td>\n",
       "      <td>0.796465</td>\n",
       "      <td>0.733934</td>\n",
       "    </tr>\n",
       "  </tbody>\n",
       "</table>\n",
       "<p>880 rows × 4 columns</p>\n",
       "</div>"
      ],
      "text/plain": [
       "                                             param_clf  mean_test_roc_auc  \\\n",
       "0    LogisticRegression(class_weight='balanced', ma...           0.848937   \n",
       "1    LogisticRegression(class_weight='balanced', ma...           0.851001   \n",
       "2    LogisticRegression(class_weight='balanced', ma...           0.849883   \n",
       "3    LogisticRegression(class_weight='balanced', ma...           0.850845   \n",
       "4    LogisticRegression(class_weight='balanced', ma...           0.849028   \n",
       "..                                                 ...                ...   \n",
       "875  RandomForestClassifier(n_jobs=-1, random_state...           0.859058   \n",
       "876  RandomForestClassifier(n_jobs=-1, random_state...           0.859249   \n",
       "877  RandomForestClassifier(n_jobs=-1, random_state...           0.858938   \n",
       "878  RandomForestClassifier(n_jobs=-1, random_state...           0.859416   \n",
       "879  RandomForestClassifier(n_jobs=-1, random_state...           0.859645   \n",
       "\n",
       "     mean_test_accuracy  mean_test_f1  \n",
       "0              0.784368      0.729419  \n",
       "1              0.785894      0.732645  \n",
       "2              0.782875      0.728244  \n",
       "3              0.787386      0.734111  \n",
       "4              0.782875      0.727945  \n",
       "..                  ...           ...  \n",
       "875            0.800965      0.738389  \n",
       "876            0.799473      0.737945  \n",
       "877            0.794973      0.732549  \n",
       "878            0.794973      0.731616  \n",
       "879            0.796465      0.733934  \n",
       "\n",
       "[880 rows x 4 columns]"
      ]
     },
     "execution_count": 7,
     "metadata": {},
     "output_type": "execute_result"
    }
   ],
   "source": [
    "cv = StratifiedKFold(n_splits=5, shuffle=True, random_state=SEED)\n",
    "print(\"Train/Test shapes:\", X_train.shape, X_test.shape)\n",
    "\n",
    "# 1) pipeline genérico (o classificador e o seletor serão definidos via grid)\n",
    "base_pipe = Pipeline([\n",
    "    (\"engineer\", engineer_step),   # do 02\n",
    "    (\"preprocess\", preprocess),    # ColumnTransformer (num+cat)\n",
    "    (\"select\", \"passthrough\"),     # por padrão desliga seleção\n",
    "    (\"clf\", LogisticRegression())  # placeholder; o grid troca por LR/RF de verdade\n",
    "])\n",
    "\n",
    "# 2) grids específicos por modelo\n",
    "grid_lr = {\n",
    "    \"clf\": [LogisticRegression(max_iter=800, solver=\"liblinear\",\n",
    "                               class_weight=\"balanced\", random_state=SEED)],\n",
    "    \"clf__penalty\": [\"l1\", \"l2\"],\n",
    "    \"clf__C\": [0.5, 1.0, 2.0, 4.0],\n",
    "    # seleção opcional baseada em LR-L1\n",
    "    \"select\": [\n",
    "        \"passthrough\",\n",
    "        SelectFromModel(\n",
    "            estimator=LogisticRegression(penalty=\"l1\", solver=\"liblinear\",\n",
    "                                         C=1.0, class_weight=\"balanced\",\n",
    "                                         random_state=SEED),\n",
    "            threshold=\"median\",\n",
    "            prefit=False,\n",
    "        ),\n",
    "    ],\n",
    "}\n",
    "\n",
    "grid_rf = {\n",
    "    \"clf\": [RandomForestClassifier(random_state=SEED, n_jobs=-1)],\n",
    "    # >>> hiperparâmetros recomendados p/ RF (ponto de partida)\n",
    "    \"clf__n_estimators\": [200, 300, 500, 800],\n",
    "    \"clf__max_depth\": [None, 8, 16, 24],\n",
    "    \"clf__min_samples_split\": [2, 5, 10],\n",
    "    \"clf__min_samples_leaf\": [1, 2, 4],\n",
    "    \"clf__max_features\": [\"sqrt\", \"log2\", None],\n",
    "    \"clf__class_weight\": [None, \"balanced\"],\n",
    "    # seleção antes do RF normalmente fica desligada\n",
    "    \"select\": [\"passthrough\"],\n",
    "}\n",
    "\n",
    "# 3) busca única comparando modelos + hiperparâmetros\n",
    "scoring = {\n",
    "    \"roc_auc\": \"roc_auc\",\n",
    "    \"accuracy\": \"accuracy\",\n",
    "    \"f1\": \"f1\",\n",
    "    \"precision\": \"precision\",\n",
    "    \"recall\": \"recall\"\n",
    "}\n",
    "\n",
    "gs = GridSearchCV(\n",
    "    estimator=base_pipe,\n",
    "    param_grid=[grid_lr, grid_rf],\n",
    "    cv=cv,\n",
    "    scoring=scoring,\n",
    "    refit=\"roc_auc\",\n",
    "    n_jobs=-1,\n",
    "    verbose=1,\n",
    ")\n",
    "\n",
    "gs.fit(X_train, y_train)\n",
    "\n",
    "final_model = gs.best_estimator_\n",
    "print(\"Melhor combinação:\", gs.best_params_)\n",
    "print(f\"Melhor ROC-AUC (CV): {gs.best_score_:.4f}\")\n",
    "print(\"Vencedor:\", type(final_model.named_steps[\"clf\"]).__name__)\n",
    "pd.DataFrame(gs.cv_results_)[\n",
    "    ['param_clf', 'mean_test_roc_auc', 'mean_test_accuracy', 'mean_test_f1']\n",
    "]\n"
   ]
  },
  {
   "cell_type": "markdown",
   "id": "5bb6b3f8",
   "metadata": {},
   "source": [
    "## Feature selector"
   ]
  },
  {
   "cell_type": "code",
   "execution_count": 8,
   "id": "50c5754e",
   "metadata": {},
   "outputs": [
    {
     "name": "stdout",
     "output_type": "stream",
     "text": [
      "Test ROC-AUC : 0.8451875742658292\n",
      "Test Accuracy: 0.7937219730941704\n",
      "Test Precision: 0.7439024390243902\n",
      "Test Recall   : 0.7093023255813954\n",
      "Test F1       : 0.7261904761904762\n"
     ]
    },
    {
     "data": {
      "image/png": "[encoded data removed]",
      "text/plain": [
       "<Figure size 640x480 with 2 Axes>"
      ]
     },
     "metadata": {},
     "output_type": "display_data"
    }
   ],
   "source": [
    "# Avaliação no TEST set — independe do algoritmo vencedor\n",
    "proba = final_model.predict_proba(X_test)[:, 1]\n",
    "pred  = (proba >= 0.5).astype(int)\n",
    "\n",
    "print(\"Test ROC-AUC :\", roc_auc_score(y_test, proba))\n",
    "print(\"Test Accuracy:\", accuracy_score(y_test, pred))\n",
    "print(\"Test Precision:\", precision_score(y_test, pred, zero_division=0))\n",
    "print(\"Test Recall   :\", recall_score(y_test, pred, zero_division=0))\n",
    "print(\"Test F1       :\", f1_score(y_test, pred, zero_division=0))\n",
    "\n",
    "ConfusionMatrixDisplay.from_predictions(y_test, pred)\n",
    "plt.title(\"Matriz de confusão — Test set (modelo vencedor)\")\n",
    "plt.show()"
   ]
  },
  {
   "cell_type": "markdown",
   "id": "6d6af691",
   "metadata": {},
   "source": [
    "## Extract selected feature names + importance ranking"
   ]
  },
  {
   "cell_type": "code",
   "execution_count": 10,
   "id": "4f25491d",
   "metadata": {},
   "outputs": [
    {
     "name": "stdout",
     "output_type": "stream",
     "text": [
      "Selected features: 11 / 11\n"
     ]
    },
    {
     "data": {
      "text/html": [
       "<div>\n",
       "<style scoped>\n",
       "    .dataframe tbody tr th:only-of-type {\n",
       "        vertical-align: middle;\n",
       "    }\n",
       "\n",
       "    .dataframe tbody tr th {\n",
       "        vertical-align: top;\n",
       "    }\n",
       "\n",
       "    .dataframe thead th {\n",
       "        text-align: right;\n",
       "    }\n",
       "</style>\n",
       "<table border=\"1\" class=\"dataframe\">\n",
       "  <thead>\n",
       "    <tr style=\"text-align: right;\">\n",
       "      <th></th>\n",
       "      <th>feature</th>\n",
       "      <th>importance</th>\n",
       "    </tr>\n",
       "  </thead>\n",
       "  <tbody>\n",
       "    <tr>\n",
       "      <th>0</th>\n",
       "      <td>Sex_male</td>\n",
       "      <td>0.228326</td>\n",
       "    </tr>\n",
       "    <tr>\n",
       "      <th>1</th>\n",
       "      <td>Sex_female</td>\n",
       "      <td>0.219859</td>\n",
       "    </tr>\n",
       "    <tr>\n",
       "      <th>2</th>\n",
       "      <td>Fare</td>\n",
       "      <td>0.186099</td>\n",
       "    </tr>\n",
       "    <tr>\n",
       "      <th>3</th>\n",
       "      <td>Age</td>\n",
       "      <td>0.133509</td>\n",
       "    </tr>\n",
       "    <tr>\n",
       "      <th>4</th>\n",
       "      <td>Pclass</td>\n",
       "      <td>0.094917</td>\n",
       "    </tr>\n",
       "    <tr>\n",
       "      <th>5</th>\n",
       "      <td>FamilySize</td>\n",
       "      <td>0.050436</td>\n",
       "    </tr>\n",
       "    <tr>\n",
       "      <th>6</th>\n",
       "      <td>SibSp</td>\n",
       "      <td>0.028124</td>\n",
       "    </tr>\n",
       "    <tr>\n",
       "      <th>7</th>\n",
       "      <td>Parch</td>\n",
       "      <td>0.022881</td>\n",
       "    </tr>\n",
       "    <tr>\n",
       "      <th>8</th>\n",
       "      <td>Embarked_S</td>\n",
       "      <td>0.015333</td>\n",
       "    </tr>\n",
       "    <tr>\n",
       "      <th>9</th>\n",
       "      <td>Embarked_C</td>\n",
       "      <td>0.014436</td>\n",
       "    </tr>\n",
       "  </tbody>\n",
       "</table>\n",
       "</div>"
      ],
      "text/plain": [
       "      feature  importance\n",
       "0    Sex_male    0.228326\n",
       "1  Sex_female    0.219859\n",
       "2        Fare    0.186099\n",
       "3         Age    0.133509\n",
       "4      Pclass    0.094917\n",
       "5  FamilySize    0.050436\n",
       "6       SibSp    0.028124\n",
       "7       Parch    0.022881\n",
       "8  Embarked_S    0.015333\n",
       "9  Embarked_C    0.014436"
      ]
     },
     "execution_count": 10,
     "metadata": {},
     "output_type": "execute_result"
    }
   ],
   "source": [
    "# Feature names after preprocessing, and which were selected\n",
    "pp_names = final_model.named_steps[\"preprocess\"].get_feature_names_out()\n",
    "\n",
    "# lidar com o passo 'select' (pode ser 'passthrough' ou um seletor)\n",
    "selector = final_model.named_steps.get(\"select\", \"passthrough\")\n",
    "\n",
    "if selector == \"passthrough\" or selector is None:\n",
    "    # nenhuma seleção: todas as colunas passaram\n",
    "    support_mask = np.ones(len(pp_names), dtype=bool)\n",
    "    selected_names = np.array(pp_names)\n",
    "elif hasattr(selector, \"get_support\"):\n",
    "    support_mask = selector.get_support()\n",
    "    selected_names = np.array(pp_names)[support_mask]\n",
    "else:\n",
    "    # fallback defensivo\n",
    "    support_mask = np.ones(len(pp_names), dtype=bool)\n",
    "    selected_names = np.array(pp_names)\n",
    "\n",
    "# pegar o estimador vencedor\n",
    "clf = final_model.named_steps[\"clf\"]\n",
    "\n",
    "# vetor de importância/coefs no espaço \"após seleção\"\n",
    "if hasattr(clf, \"coef_\"):                       # LogisticRegression\n",
    "    values = np.abs(clf.coef_).ravel()\n",
    "elif hasattr(clf, \"feature_importances_\"):      # RandomForest\n",
    "    values = clf.feature_importances_.ravel()\n",
    "else:\n",
    "    raise AttributeError(\"O estimador vencedor não expõe coef_ nem feature_importances_.\")\n",
    "\n",
    "# montar ranking (o clf foi treinado nas features 'selected_names')\n",
    "rank_df = (\n",
    "    pd.DataFrame({\"feature\": selected_names, \"importance\": values})\n",
    "      .sort_values(\"importance\", ascending=False, ignore_index=True)\n",
    ")\n",
    "\n",
    "print(f\"Selected features: {len(selected_names)} / {len(pp_names)}\")\n",
    "rank_df.head(10)"
   ]
  },
  {
   "cell_type": "markdown",
   "id": "a35840c5",
   "metadata": {},
   "source": [
    "## Save artifacts (CSV, PNG, PKL, TXT)"
   ]
  },
  {
   "cell_type": "code",
   "execution_count": 13,
   "id": "23c363db",
   "metadata": {},
   "outputs": [
    {
     "name": "stdout",
     "output_type": "stream",
     "text": [
      "\n",
      "===== ARTIFACTS =====\n",
      "Selected features : ..\\outputs\\titanic_feature_sel_20251019-214416_selected_features.csv\n",
      "Full ranking      : ..\\outputs\\titanic_feature_sel_20251019-214416_ranking.csv\n",
      "Importance plot   : ..\\outputs\\titanic_feature_sel_20251019-214416_importance.png\n",
      "Reduced pipeline  : ..\\outputs\\model_best.joblib\n",
      "Metrics           : ..\\outputs\\titanic_feature_sel_20251019-214416_metrics.txt\n"
     ]
    }
   ],
   "source": [
    "# Persist artifacts\n",
    "ts = datetime.now().strftime(\"%Y%m%d-%H%M%S\")\n",
    "base = f\"titanic_feature_sel_{ts}\"\n",
    "\n",
    "selected_csv = OUT_DIR / f\"{base}_selected_features.csv\"\n",
    "rank_csv     = OUT_DIR / f\"{base}_ranking.csv\"\n",
    "plot_png     = OUT_DIR / f\"{base}_importance.png\"\n",
    "model_file   = OUT_DIR / \"model_best.joblib\"\n",
    "metrics_txt  = OUT_DIR / f\"{base}_metrics.txt\"\n",
    "\n",
    "# CSVs\n",
    "pd.Series(selected_names, name=\"feature\").to_csv(selected_csv, index=False)\n",
    "rank_df.to_csv(rank_csv, index=False)\n",
    "\n",
    "# Plot top by |coef|\n",
    "topk = rank_df.head(20)\n",
    "plt.figure(figsize=(8, 6))\n",
    "plt.barh(topk[\"feature\"][::-1], topk[\"importance\"][::-1])\n",
    "plt.title(\"Top features by |coef| (final model)\")\n",
    "plt.tight_layout()\n",
    "plt.savefig(plot_png, dpi=150, bbox_inches=\"tight\")\n",
    "plt.close()\n",
    "\n",
    "# full pipeline: engineer + preprocess + select + clf)\n",
    "dump(final_model, model_file)\n",
    "\n",
    "# --- Métricas (usa as já calculadas; calcula se faltarem) ---\n",
    "try:\n",
    "    test_roc_auc = roc_auc_score(y_test, proba)\n",
    "    test_accuracy = accuracy_score(y_test, pred)\n",
    "except NameError:\n",
    "    proba = final_model.predict_proba(X_test)[:, 1]\n",
    "    pred  = (proba >= 0.5).astype(int)\n",
    "    test_roc_auc = roc_auc_score(y_test, proba)\n",
    "    test_accuracy = accuracy_score(y_test, pred)\n",
    "\n",
    "# Metrics report\n",
    "with open(metrics_txt, \"w\", encoding=\"utf-8\") as f:\n",
    "    # 'support_mask' e 'pp_names' vêm do bloco anterior; se não existirem, assume tudo selecionado\n",
    "    if \"support_mask\" not in globals():\n",
    "        pp_names = final_model.named_steps[\"preprocess\"].get_feature_names_out()\n",
    "        support_mask = np.ones(len(pp_names), dtype=bool)\n",
    "\n",
    "    f.write(f\"Selected: {int(np.sum(support_mask))} / {len(pp_names)}\\\\n\")\n",
    "    f.write(f\"Test ROC-AUC: {test_roc_auc:.4f}\\\\n\")\n",
    "    f.write(f\"Test Accuracy: {test_accuracy:.4f}\\\\n\")\n",
    "    f.write(f\"Test Precision: {precision_score(y_test, pred, zero_division=0):.4f}\\\\n\")\n",
    "    f.write(f\"Test Recall: {recall_score(y_test, pred, zero_division=0):.4f}\\\\n\")\n",
    "    f.write(f\"Test F1: {f1_score(y_test, pred, zero_division=0):.4f}\\\\n\")\n",
    "\n",
    "print(\"\\n===== ARTIFACTS =====\")\n",
    "print(\"Selected features :\", selected_csv)\n",
    "print(\"Full ranking      :\", rank_csv)\n",
    "print(\"Importance plot   :\", plot_png)\n",
    "print(\"Reduced pipeline  :\", model_file)\n",
    "print(\"Metrics           :\", metrics_txt)\n"
   ]
  },
  {
   "cell_type": "markdown",
   "id": "aec72005",
   "metadata": {},
   "source": [
    "## Quick inference sanity check"
   ]
  },
  {
   "cell_type": "code",
   "execution_count": 17,
   "id": "7e81a7f1",
   "metadata": {},
   "outputs": [
    {
     "data": {
      "text/html": [
       "<div>\n",
       "<style scoped>\n",
       "    .dataframe tbody tr th:only-of-type {\n",
       "        vertical-align: middle;\n",
       "    }\n",
       "\n",
       "    .dataframe tbody tr th {\n",
       "        vertical-align: top;\n",
       "    }\n",
       "\n",
       "    .dataframe thead th {\n",
       "        text-align: right;\n",
       "    }\n",
       "</style>\n",
       "<table border=\"1\" class=\"dataframe\">\n",
       "  <thead>\n",
       "    <tr style=\"text-align: right;\">\n",
       "      <th></th>\n",
       "      <th>proba</th>\n",
       "      <th>pred</th>\n",
       "    </tr>\n",
       "  </thead>\n",
       "  <tbody>\n",
       "    <tr>\n",
       "      <th>0</th>\n",
       "      <td>0.202563</td>\n",
       "      <td>0</td>\n",
       "    </tr>\n",
       "    <tr>\n",
       "      <th>1</th>\n",
       "      <td>0.867027</td>\n",
       "      <td>1</td>\n",
       "    </tr>\n",
       "    <tr>\n",
       "      <th>2</th>\n",
       "      <td>0.474328</td>\n",
       "      <td>0</td>\n",
       "    </tr>\n",
       "    <tr>\n",
       "      <th>3</th>\n",
       "      <td>0.860183</td>\n",
       "      <td>1</td>\n",
       "    </tr>\n",
       "    <tr>\n",
       "      <th>4</th>\n",
       "      <td>0.091847</td>\n",
       "      <td>0</td>\n",
       "    </tr>\n",
       "  </tbody>\n",
       "</table>\n",
       "</div>"
      ],
      "text/plain": [
       "      proba  pred\n",
       "0  0.202563     0\n",
       "1  0.867027     1\n",
       "2  0.474328     0\n",
       "3  0.860183     1\n",
       "4  0.091847     0"
      ]
     },
     "execution_count": 17,
     "metadata": {},
     "output_type": "execute_result"
    }
   ],
   "source": [
    "# Sanity check that PKL can predict on raw-clean schema\n",
    "loaded = load(model_file)\n",
    "\n",
    "# Use a small slice from X_test (raw-clean columns) — engineer step runs inside the pipeline\n",
    "sample = X_test.head(5).copy()\n",
    "sample_proba = loaded.predict_proba(sample)[:, 1]\n",
    "sample_pred  = (sample_proba >= 0.5).astype(int)\n",
    "\n",
    "pd.DataFrame({\"proba\": sample_proba, \"pred\": sample_pred})\n"
   ]
  }
 ],
 "metadata": {
  "kernelspec": {
   "display_name": "titanic-ml",
   "language": "python",
   "name": "python3"
  },
  "language_info": {
   "codemirror_mode": {
    "name": "ipython",
    "version": 3
   },
   "file_extension": ".py",
   "mimetype": "text/x-python",
   "name": "python",
   "nbconvert_exporter": "python",
   "pygments_lexer": "ipython3",
   "version": "3.11.14"
  }
 },
 "nbformat": 4,
 "nbformat_minor": 5
}
