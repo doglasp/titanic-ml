{
 "cells": [
  {
   "cell_type": "markdown",
   "id": "d060cbc5",
   "metadata": {},
   "source": [
    "# Purpose\n",
    "\n",
    "### Load the trained pipeline (.pkl)\n",
    "\n",
    "### Score new/raw Titanic-like data\n",
    "\n",
    "### Save a scored CSV (probabilities + binary prediction)\n",
    "\n",
    "### (Optional) basic sanity & drift checks"
   ]
  },
  {
   "cell_type": "markdown",
   "id": "43fdfeff",
   "metadata": {},
   "source": [
    "## Imports"
   ]
  },
  {
   "cell_type": "code",
   "execution_count": 1,
   "id": "e78ed1a2",
   "metadata": {},
   "outputs": [],
   "source": [
    "import os\n",
    "from datetime import datetime\n",
    "import numpy as np, pandas as pd, matplotlib.pyplot as plt\n",
    "from numpy import argmax\n",
    "from joblib import load\n",
    "from src.engineering import EngineerTransformer\n",
    "from pathlib import Path\n",
    "from sklearn.metrics import roc_curve, precision_recall_curve, auc"
   ]
  },
  {
   "cell_type": "markdown",
   "id": "32d1458f",
   "metadata": {},
   "source": [
    "## Setup"
   ]
  },
  {
   "cell_type": "code",
   "execution_count": 2,
   "id": "d2c36221",
   "metadata": {},
   "outputs": [],
   "source": [
    "# I/O\n",
    "OUT_DIR = Path(\"../outputs\")\n",
    "DATA = Path(\"../data/clean\")\n",
    "\n",
    "# pick the latest artifacts from 03\n",
    "model_file   = sorted(OUT_DIR.glob(\"model_best.joblib\"))[-1]\n",
    "DATA_IN   = \"../data/test.csv\"  \n",
    "os.makedirs(OUT_DIR, exist_ok=True)\n",
    "\n",
    "THRESHOLD = 0.575  # decision threshold\n",
    "TARGET    = \"Survived\""
   ]
  },
  {
   "cell_type": "markdown",
   "id": "81df5622",
   "metadata": {},
   "source": [
    "## Load model and show summary"
   ]
  },
  {
   "cell_type": "code",
   "execution_count": 3,
   "id": "dd329cfc",
   "metadata": {},
   "outputs": [
    {
     "name": "stdout",
     "output_type": "stream",
     "text": [
      "Pipeline(steps=[('engineer',\n",
      "                 EngineerTransformer(drop_cols=['PassengerId', 'Name', 'Ticket',\n",
      "                                                'Cabin'])),\n",
      "                ('preprocess',\n",
      "                 ColumnTransformer(transformers=[('num',\n",
      "                                                  Pipeline(steps=[('imputer',\n",
      "                                                                   SimpleImputer(strategy='median')),\n",
      "                                                                  ('scaler',\n",
      "                                                                   StandardScaler())]),\n",
      "                                                  <sklearn.compose._column_transformer.make_column_selector object at 0x00000132E59B0B10>),\n",
      "                                                 ('cat',\n",
      "                                                  Pipeline(step...\n",
      "                                                                  ('ohe',\n",
      "                                                                   OneHotEncoder(handle_unknown='ignore',\n",
      "                                                                                 min_frequency=0.01))]),\n",
      "                                                  <sklearn.compose._column_transformer.make_column_selector object at 0x00000132EA7B0DD0>)],\n",
      "                                   verbose_feature_names_out=False)),\n",
      "                ('select', 'passthrough'),\n",
      "                ('clf',\n",
      "                 RandomForestClassifier(class_weight='balanced',\n",
      "                                        min_samples_leaf=4,\n",
      "                                        min_samples_split=10, n_estimators=200,\n",
      "                                        n_jobs=-1, random_state=42))])\n",
      "Steps: dict_keys(['engineer', 'preprocess', 'select', 'clf'])\n"
     ]
    }
   ],
   "source": [
    "clf = load(model_file)\n",
    "print(clf)                     # pipeline steps\n",
    "print(\"Steps:\", getattr(clf, \"named_steps\", {}).keys())"
   ]
  },
  {
   "cell_type": "markdown",
   "id": "295c9d0a",
   "metadata": {},
   "source": [
    "## Read new data & light cleaning"
   ]
  },
  {
   "cell_type": "code",
   "execution_count": 4,
   "id": "35311fd4",
   "metadata": {},
   "outputs": [
    {
     "name": "stdout",
     "output_type": "stream",
     "text": [
      "Input shape: (418, 11)\n"
     ]
    },
    {
     "data": {
      "text/html": [
       "<div>\n",
       "<style scoped>\n",
       "    .dataframe tbody tr th:only-of-type {\n",
       "        vertical-align: middle;\n",
       "    }\n",
       "\n",
       "    .dataframe tbody tr th {\n",
       "        vertical-align: top;\n",
       "    }\n",
       "\n",
       "    .dataframe thead th {\n",
       "        text-align: right;\n",
       "    }\n",
       "</style>\n",
       "<table border=\"1\" class=\"dataframe\">\n",
       "  <thead>\n",
       "    <tr style=\"text-align: right;\">\n",
       "      <th></th>\n",
       "      <th>PassengerId</th>\n",
       "      <th>Pclass</th>\n",
       "      <th>Name</th>\n",
       "      <th>Sex</th>\n",
       "      <th>Age</th>\n",
       "      <th>SibSp</th>\n",
       "      <th>Parch</th>\n",
       "      <th>Ticket</th>\n",
       "      <th>Fare</th>\n",
       "      <th>Cabin</th>\n",
       "      <th>Embarked</th>\n",
       "    </tr>\n",
       "  </thead>\n",
       "  <tbody>\n",
       "    <tr>\n",
       "      <th>0</th>\n",
       "      <td>892</td>\n",
       "      <td>3</td>\n",
       "      <td>Kelly, Mr. James</td>\n",
       "      <td>male</td>\n",
       "      <td>34.5</td>\n",
       "      <td>0</td>\n",
       "      <td>0</td>\n",
       "      <td>330911</td>\n",
       "      <td>7.8292</td>\n",
       "      <td>&lt;NA&gt;</td>\n",
       "      <td>Q</td>\n",
       "    </tr>\n",
       "    <tr>\n",
       "      <th>1</th>\n",
       "      <td>893</td>\n",
       "      <td>3</td>\n",
       "      <td>Wilkes, Mrs. James (Ellen Needs)</td>\n",
       "      <td>female</td>\n",
       "      <td>47.0</td>\n",
       "      <td>1</td>\n",
       "      <td>0</td>\n",
       "      <td>363272</td>\n",
       "      <td>7.0000</td>\n",
       "      <td>&lt;NA&gt;</td>\n",
       "      <td>S</td>\n",
       "    </tr>\n",
       "    <tr>\n",
       "      <th>2</th>\n",
       "      <td>894</td>\n",
       "      <td>2</td>\n",
       "      <td>Myles, Mr. Thomas Francis</td>\n",
       "      <td>male</td>\n",
       "      <td>62.0</td>\n",
       "      <td>0</td>\n",
       "      <td>0</td>\n",
       "      <td>240276</td>\n",
       "      <td>9.6875</td>\n",
       "      <td>&lt;NA&gt;</td>\n",
       "      <td>Q</td>\n",
       "    </tr>\n",
       "    <tr>\n",
       "      <th>3</th>\n",
       "      <td>895</td>\n",
       "      <td>3</td>\n",
       "      <td>Wirz, Mr. Albert</td>\n",
       "      <td>male</td>\n",
       "      <td>27.0</td>\n",
       "      <td>0</td>\n",
       "      <td>0</td>\n",
       "      <td>315154</td>\n",
       "      <td>8.6625</td>\n",
       "      <td>&lt;NA&gt;</td>\n",
       "      <td>S</td>\n",
       "    </tr>\n",
       "    <tr>\n",
       "      <th>4</th>\n",
       "      <td>896</td>\n",
       "      <td>3</td>\n",
       "      <td>Hirvonen, Mrs. Alexander (Helga E Lindqvist)</td>\n",
       "      <td>female</td>\n",
       "      <td>22.0</td>\n",
       "      <td>1</td>\n",
       "      <td>1</td>\n",
       "      <td>3101298</td>\n",
       "      <td>12.2875</td>\n",
       "      <td>&lt;NA&gt;</td>\n",
       "      <td>S</td>\n",
       "    </tr>\n",
       "  </tbody>\n",
       "</table>\n",
       "</div>"
      ],
      "text/plain": [
       "   PassengerId  Pclass                                          Name     Sex  \\\n",
       "0          892       3                              Kelly, Mr. James    male   \n",
       "1          893       3              Wilkes, Mrs. James (Ellen Needs)  female   \n",
       "2          894       2                     Myles, Mr. Thomas Francis    male   \n",
       "3          895       3                              Wirz, Mr. Albert    male   \n",
       "4          896       3  Hirvonen, Mrs. Alexander (Helga E Lindqvist)  female   \n",
       "\n",
       "    Age  SibSp  Parch   Ticket     Fare Cabin Embarked  \n",
       "0  34.5      0      0   330911   7.8292  <NA>        Q  \n",
       "1  47.0      1      0   363272   7.0000  <NA>        S  \n",
       "2  62.0      0      0   240276   9.6875  <NA>        Q  \n",
       "3  27.0      0      0   315154   8.6625  <NA>        S  \n",
       "4  22.0      1      1  3101298  12.2875  <NA>        S  "
      ]
     },
     "execution_count": 4,
     "metadata": {},
     "output_type": "execute_result"
    }
   ],
   "source": [
    "df_raw = pd.read_csv(DATA_IN)\n",
    "\n",
    "# Light string cleanup so imputers/OHE behave\n",
    "for c in df_raw.select_dtypes(include=[\"object\",\"string\"]).columns:\n",
    "    df_raw[c] = df_raw[c].astype(\"string\").str.strip()\n",
    "\n",
    "print(\"Input shape:\", df_raw.shape)\n",
    "df_raw.head()"
   ]
  },
  {
   "cell_type": "markdown",
   "id": "211868b2",
   "metadata": {},
   "source": [
    "## Schema sanity (presence of original raw columns)"
   ]
  },
  {
   "cell_type": "code",
   "execution_count": 5,
   "id": "02003983",
   "metadata": {},
   "outputs": [],
   "source": [
    "X_infer = df_raw.copy()"
   ]
  },
  {
   "cell_type": "markdown",
   "id": "17501516",
   "metadata": {},
   "source": [
    "## Predict probabilities and class"
   ]
  },
  {
   "cell_type": "code",
   "execution_count": 6,
   "id": "a54c6efd",
   "metadata": {},
   "outputs": [
    {
     "name": "stdout",
     "output_type": "stream",
     "text": [
      "Preview: [[0.12045118 0.        ]\n",
      " [0.44809888 0.        ]\n",
      " [0.09885731 0.        ]\n",
      " [0.18120756 0.        ]\n",
      " [0.57465453 0.        ]]\n"
     ]
    }
   ],
   "source": [
    "proba = clf.predict_proba(X_infer)[:, 1]\n",
    "pred  = (proba >= THRESHOLD).astype(int)\n",
    "\n",
    "print(\"Preview:\", np.column_stack([proba[:5], pred[:5]]))\n"
   ]
  },
  {
   "cell_type": "markdown",
   "id": "065683bc",
   "metadata": {},
   "source": [
    "## Build a scored dataframe and save artifacts"
   ]
  },
  {
   "cell_type": "code",
   "execution_count": 7,
   "id": "9c010494",
   "metadata": {},
   "outputs": [
    {
     "name": "stdout",
     "output_type": "stream",
     "text": [
      "Saved: ..\\outputs\\titanic_scored_20251019-220358.csv\n"
     ]
    },
    {
     "data": {
      "text/html": [
       "<div>\n",
       "<style scoped>\n",
       "    .dataframe tbody tr th:only-of-type {\n",
       "        vertical-align: middle;\n",
       "    }\n",
       "\n",
       "    .dataframe tbody tr th {\n",
       "        vertical-align: top;\n",
       "    }\n",
       "\n",
       "    .dataframe thead th {\n",
       "        text-align: right;\n",
       "    }\n",
       "</style>\n",
       "<table border=\"1\" class=\"dataframe\">\n",
       "  <thead>\n",
       "    <tr style=\"text-align: right;\">\n",
       "      <th></th>\n",
       "      <th>PassengerId</th>\n",
       "      <th>survival_prob</th>\n",
       "      <th>survived_pred</th>\n",
       "      <th>threshold</th>\n",
       "      <th>model_path</th>\n",
       "      <th>scored_at</th>\n",
       "    </tr>\n",
       "  </thead>\n",
       "  <tbody>\n",
       "    <tr>\n",
       "      <th>0</th>\n",
       "      <td>892</td>\n",
       "      <td>0.120451</td>\n",
       "      <td>0</td>\n",
       "      <td>0.575</td>\n",
       "      <td>..\\outputs\\model_best.joblib</td>\n",
       "      <td>2025-10-20T01:03:58Z</td>\n",
       "    </tr>\n",
       "    <tr>\n",
       "      <th>1</th>\n",
       "      <td>893</td>\n",
       "      <td>0.448099</td>\n",
       "      <td>0</td>\n",
       "      <td>0.575</td>\n",
       "      <td>..\\outputs\\model_best.joblib</td>\n",
       "      <td>2025-10-20T01:03:58Z</td>\n",
       "    </tr>\n",
       "    <tr>\n",
       "      <th>2</th>\n",
       "      <td>894</td>\n",
       "      <td>0.098857</td>\n",
       "      <td>0</td>\n",
       "      <td>0.575</td>\n",
       "      <td>..\\outputs\\model_best.joblib</td>\n",
       "      <td>2025-10-20T01:03:58Z</td>\n",
       "    </tr>\n",
       "    <tr>\n",
       "      <th>3</th>\n",
       "      <td>895</td>\n",
       "      <td>0.181208</td>\n",
       "      <td>0</td>\n",
       "      <td>0.575</td>\n",
       "      <td>..\\outputs\\model_best.joblib</td>\n",
       "      <td>2025-10-20T01:03:58Z</td>\n",
       "    </tr>\n",
       "    <tr>\n",
       "      <th>4</th>\n",
       "      <td>896</td>\n",
       "      <td>0.574655</td>\n",
       "      <td>0</td>\n",
       "      <td>0.575</td>\n",
       "      <td>..\\outputs\\model_best.joblib</td>\n",
       "      <td>2025-10-20T01:03:58Z</td>\n",
       "    </tr>\n",
       "  </tbody>\n",
       "</table>\n",
       "</div>"
      ],
      "text/plain": [
       "   PassengerId  survival_prob  survived_pred  threshold  \\\n",
       "0          892       0.120451              0      0.575   \n",
       "1          893       0.448099              0      0.575   \n",
       "2          894       0.098857              0      0.575   \n",
       "3          895       0.181208              0      0.575   \n",
       "4          896       0.574655              0      0.575   \n",
       "\n",
       "                     model_path             scored_at  \n",
       "0  ..\\outputs\\model_best.joblib  2025-10-20T01:03:58Z  \n",
       "1  ..\\outputs\\model_best.joblib  2025-10-20T01:03:58Z  \n",
       "2  ..\\outputs\\model_best.joblib  2025-10-20T01:03:58Z  \n",
       "3  ..\\outputs\\model_best.joblib  2025-10-20T01:03:58Z  \n",
       "4  ..\\outputs\\model_best.joblib  2025-10-20T01:03:58Z  "
      ]
     },
     "execution_count": 7,
     "metadata": {},
     "output_type": "execute_result"
    }
   ],
   "source": [
    "id_col = \"PassengerId\" if \"PassengerId\" in df_raw.columns else None\n",
    "\n",
    "scored_cols = {}\n",
    "if id_col: scored_cols[id_col] = df_raw[id_col]\n",
    "scored_cols |= {\n",
    "    \"survival_prob\": proba,\n",
    "    \"survived_pred\": pred,\n",
    "    \"threshold\": THRESHOLD,\n",
    "    \"model_path\": model_file,\n",
    "    \"scored_at\": datetime.utcnow().isoformat(timespec=\"seconds\") + \"Z\",\n",
    "}\n",
    "df_scored = pd.DataFrame(scored_cols)\n",
    "\n",
    "ts = datetime.now().strftime(\"%Y%m%d-%H%M%S\")\n",
    "out_csv = os.path.join(OUT_DIR, f\"titanic_scored_{ts}.csv\")\n",
    "df_scored.to_csv(out_csv, index=False)\n",
    "\n",
    "print(\"Saved:\", out_csv)\n",
    "df_scored.head()\n"
   ]
  },
  {
   "cell_type": "markdown",
   "id": "984f6c52",
   "metadata": {},
   "source": [
    "## (Optional) Compare the dataset predictions with gender_submission.csv"
   ]
  },
  {
   "cell_type": "code",
   "execution_count": 8,
   "id": "bccd83d0",
   "metadata": {},
   "outputs": [
    {
     "name": "stdout",
     "output_type": "stream",
     "text": [
      "Linhas avaliadas: 418 (merge por PassengerId)\n",
      "\n",
      "== Avaliação vs gender_submission ==\n",
      "Accuracy         : 0.9043\n",
      "ROC-AUC (probas) : 0.9693\n",
      "Precision        : 0.9000\n",
      "Recall           : 0.8289\n",
      "F1-score         : 0.8630\n",
      "Confusion matrix:\n",
      " [[252  14]\n",
      " [ 26 126]]\n",
      "\n",
      "Classification report:\n",
      "               precision    recall  f1-score   support\n",
      "\n",
      "           0     0.9065    0.9474    0.9265       266\n",
      "           1     0.9000    0.8289    0.8630       152\n",
      "\n",
      "    accuracy                         0.9043       418\n",
      "   macro avg     0.9032    0.8882    0.8947       418\n",
      "weighted avg     0.9041    0.9043    0.9034       418\n",
      "\n",
      "\n",
      "Comparativo salvo em: ../outputs/compare_vs_gender_20251019-220358.csv\n"
     ]
    }
   ],
   "source": [
    "# === Config ===\n",
    "GENDER_SUB_PATH = \"../data/gender_submission.csv\"   # ajuste o caminho se preciso\n",
    "ID_COL          = \"PassengerId\"\n",
    "PROBA_COL       = \"survival_prob\"   # probabilidade prevista (float)\n",
    "PRED_COL        = \"survived_pred\"   # classe prevista (0/1)\n",
    "REF_COL         = \"Survived\"        # coluna do gender_submission\n",
    "\n",
    "# --- Carrega gender_submission (referência) ---\n",
    "ref = pd.read_csv(GENDER_SUB_PATH)\n",
    "# sanity\n",
    "assert {ID_COL, REF_COL}.issubset(ref.columns), \"gender_submission não tem as colunas esperadas.\"\n",
    "\n",
    "# Garante tipo inteiro em referência\n",
    "ref[REF_COL] = ref[REF_COL].astype(\"int64\")\n",
    "\n",
    "# --- Verifica se df_scored existe e tem as colunas necessárias ---\n",
    "needed = {ID_COL, PROBA_COL, PRED_COL}\n",
    "missing = needed - set(df_scored.columns)\n",
    "if missing:\n",
    "    raise ValueError(f\"df_scored precisa conter as colunas: {missing}\")\n",
    "\n",
    "# --- Merge para avaliação ---\n",
    "eval_df = (df_scored[[ID_COL, PROBA_COL, PRED_COL]]\n",
    "           .merge(ref[[ID_COL, REF_COL]], on=ID_COL, how=\"inner\"))\n",
    "\n",
    "print(f\"Linhas avaliadas: {len(eval_df)} (merge por {ID_COL})\")\n",
    "\n",
    "y_true = eval_df[REF_COL].astype(int).to_numpy()\n",
    "y_proba = eval_df[PROBA_COL].astype(float).to_numpy()\n",
    "y_pred  = eval_df[PRED_COL].astype(int).to_numpy()\n",
    "\n",
    "# --- Métricas ---\n",
    "from sklearn.metrics import (\n",
    "    accuracy_score, roc_auc_score, precision_score, recall_score,\n",
    "    f1_score, confusion_matrix, classification_report\n",
    ")\n",
    "\n",
    "acc  = accuracy_score(y_true, y_pred)\n",
    "auc_score  = roc_auc_score(y_true, y_proba)\n",
    "prec = precision_score(y_true, y_pred, zero_division=0)\n",
    "rec  = recall_score(y_true, y_pred, zero_division=0)\n",
    "f1   = f1_score(y_true, y_pred, zero_division=0)\n",
    "cm   = confusion_matrix(y_true, y_pred)\n",
    "\n",
    "print(f\"\\n== Avaliação vs gender_submission ==\")\n",
    "print(f\"Accuracy         : {acc:.4f}\")\n",
    "print(f\"ROC-AUC (probas) : {auc_score:.4f}\")\n",
    "print(f\"Precision        : {prec:.4f}\")\n",
    "print(f\"Recall           : {rec:.4f}\")\n",
    "print(f\"F1-score         : {f1:.4f}\")\n",
    "print(\"Confusion matrix:\\n\", cm)\n",
    "print(\"\\nClassification report:\\n\", classification_report(y_true, y_pred, digits=4))\n",
    "\n",
    "# (Opcional) salvar um CSV com o comparativo linha a linha\n",
    "ts = datetime.now().strftime(\"%Y%m%d-%H%M%S\")\n",
    "cmp_out = f\"../outputs/compare_vs_gender_{ts}.csv\"\n",
    "eval_df.to_csv(cmp_out, index=False)\n",
    "print(\"\\nComparativo salvo em:\", cmp_out)\n",
    "\n"
   ]
  },
  {
   "cell_type": "markdown",
   "id": "c49e1377",
   "metadata": {},
   "source": [
    "## (Optional) plot ROC and Precision–Recall curves\n",
    "## (Optional) Calc best threshold"
   ]
  },
  {
   "cell_type": "code",
   "execution_count": 9,
   "id": "c7e3bf7b",
   "metadata": {},
   "outputs": [
    {
     "name": "stdout",
     "output_type": "stream",
     "text": [
      "Best threshold by F1-score: 0.575\n"
     ]
    },
    {
     "data": {
      "image/png": "[encoded data removed]",
      "text/plain": [
       "<Figure size 600x600 with 1 Axes>"
      ]
     },
     "metadata": {},
     "output_type": "display_data"
    },
    {
     "data": {
      "image/png": "[encoded data removed]",
      "text/plain": [
       "<Figure size 600x600 with 1 Axes>"
      ]
     },
     "metadata": {},
     "output_type": "display_data"
    }
   ],
   "source": [
    "# --- Compute curves ---\n",
    "fpr, tpr, _ = roc_curve(y_true, y_proba)\n",
    "roc_auc = auc(fpr, tpr)\n",
    "\n",
    "prec, rec, _ = precision_recall_curve(y_true, y_proba)\n",
    "pr_auc = auc(rec, prec)\n",
    "\n",
    "\n",
    "\n",
    "f1_scores = 2 * prec * rec / (prec + rec)\n",
    "best_idx = argmax(f1_scores)\n",
    "best_thresh = _[best_idx]\n",
    "print(f\"Best threshold by F1-score: {best_thresh:.3f}\")\n",
    "\n",
    "\n",
    "# --- Plot ROC curve ---\n",
    "plt.figure(figsize=(6,6))\n",
    "plt.plot(fpr, tpr, label=f\"ROC curve (AUC = {roc_auc:.3f})\")\n",
    "plt.plot([0,1], [0,1], \"k--\", label=\"Random baseline\")\n",
    "plt.xlabel(\"False Positive Rate (1 - Specificity)\")\n",
    "plt.ylabel(\"True Positive Rate (Recall)\")\n",
    "plt.title(\"ROC Curve\")\n",
    "plt.legend(loc=\"lower right\")\n",
    "plt.grid(True)\n",
    "plt.tight_layout()\n",
    "plt.show()\n",
    "\n",
    "# --- Plot Precision–Recall curve ---\n",
    "plt.figure(figsize=(6,6))\n",
    "plt.plot(rec, prec, label=f\"PR curve (AUC = {pr_auc:.3f})\")\n",
    "plt.xlabel(\"Recall\")\n",
    "plt.ylabel(\"Precision\")\n",
    "plt.title(\"Precision–Recall Curve\")\n",
    "plt.legend(loc=\"lower left\")\n",
    "plt.grid(True)\n",
    "plt.tight_layout()\n",
    "plt.show()"
   ]
  },
  {
   "cell_type": "markdown",
   "id": "4d457ffd",
   "metadata": {},
   "source": [
    "## (Optional) Minimal drift glance vs. train summary (if summary was trained in 01)"
   ]
  },
  {
   "cell_type": "code",
   "execution_count": 10,
   "id": "04bcba2e",
   "metadata": {},
   "outputs": [],
   "source": [
    "# OPTIONAL: quick numeric mean delta vs stored training stats\n",
    "# Example expects a JSON like {\"columns\": {\"Age\":\"float64\", ...}, \"rows\": 891,\n",
    "#                              \"numerics_mean\": {\"Age\": 29.7, ...}, \"numerics_std\": {...}}\n",
    "schema_path = \"../outputs/schema.json\"\n",
    "if os.path.exists(schema_path):\n",
    "    with open(schema_path, \"r\", encoding=\"utf-8\") as f:\n",
    "        schema = json.load(f)\n",
    "    num_cols = [c for c,t in schema.get(\"columns\", {}).items() if \"float\" in t or \"int\" in t]\n",
    "    num_cols = [c for c in num_cols if c in df_raw.columns]\n",
    "    if num_cols:\n",
    "        print(\"\\nNumeric mean deltas (|Δ| / (std_train + std_new)):\")\n",
    "        for c in num_cols:\n",
    "            m_tr = schema.get(\"numerics_mean\", {}).get(c)\n",
    "            s_tr = schema.get(\"numerics_std\", {}).get(c, 0)\n",
    "            m_new = pd.to_numeric(df_raw[c], errors=\"coerce\").mean()\n",
    "            s_new = pd.to_numeric(df_raw[c], errors=\"coerce\").std(ddof=0)\n",
    "            denom = (s_tr or 0) + (s_new or 0)\n",
    "            delta = abs(m_tr - m_new) / denom if (m_tr is not None and denom>0) else np.nan\n",
    "            print(f\"{c:12s}  {delta:.3f}\")"
   ]
  },
  {
   "cell_type": "markdown",
   "id": "f93aa712",
   "metadata": {},
   "source": [
    "## (Optional) Single-record scoring helper"
   ]
  },
  {
   "cell_type": "code",
   "execution_count": 11,
   "id": "f246dab8",
   "metadata": {},
   "outputs": [
    {
     "data": {
      "text/plain": [
       "{'survival_prob': 0.4893930955453964, 'survived_pred': 0}"
      ]
     },
     "execution_count": 11,
     "metadata": {},
     "output_type": "execute_result"
    }
   ],
   "source": [
    "def score_one(payload: dict) -> dict:\n",
    "    \"\"\"Score a single passenger dict (raw fields). Returns prob & pred.\"\"\"\n",
    "    df1 = pd.DataFrame([payload])\n",
    "    \n",
    "    # Clean string columns\n",
    "    for c in df1.select_dtypes(include=[\"object\", \"string\"]).columns:\n",
    "        df1[c] = df1[c].astype(\"string\").str.strip()\n",
    "\n",
    "    # Predict probability\n",
    "    p = clf.predict_proba(df1)[:, 1].ravel()[0]  # ✅ extrai escalar de forma segura\n",
    "\n",
    "    return {\n",
    "        \"survival_prob\": float(p),\n",
    "        \"survived_pred\": int(p >= THRESHOLD)\n",
    "    }\n",
    "\n",
    "# Example:\n",
    "score_one({\n",
    "    \"PassengerId\": 9999, \"Pclass\": 1, \"Name\": \"Doe, Mr. John\", \"Sex\": \"male\",\n",
    "    \"Age\": 38, \"SibSp\": 0, \"Parch\": 0, \"Ticket\": \"A/5 21171\", \"Fare\": 71.2833,\n",
    "    \"Cabin\": \"C85\", \"Embarked\": \"C\"\n",
    "})"
   ]
  }
 ],
 "metadata": {
  "kernelspec": {
   "display_name": "titanic-ml",
   "language": "python",
   "name": "python3"
  },
  "language_info": {
   "codemirror_mode": {
    "name": "ipython",
    "version": 3
   },
   "file_extension": ".py",
   "mimetype": "text/x-python",
   "name": "python",
   "nbconvert_exporter": "python",
   "pygments_lexer": "ipython3",
   "version": "3.11.14"
  }
 },
 "nbformat": 4,
 "nbformat_minor": 5
}
